{
 "cells": [
  {
   "cell_type": "code",
   "execution_count": 35,
   "metadata": {},
   "outputs": [],
   "source": [
    "import numpy as np\n",
    "import pandas as pd\n",
    "import matplotlib.pyplot as plt\n",
    "from sklearn.model_selection import train_test_split\n",
    "from sklearn.metrics import accuracy_score\n",
    "import joblib\n",
    "import tensorflow as tf\n",
    "import keras\n",
    "import seaborn as sn\n",
    "\n",
    "%matplotlib inline"
   ]
  },
  {
   "cell_type": "code",
   "execution_count": 36,
   "metadata": {},
   "outputs": [
    {
     "data": {
      "text/html": [
       "<div>\n",
       "<style scoped>\n",
       "    .dataframe tbody tr th:only-of-type {\n",
       "        vertical-align: middle;\n",
       "    }\n",
       "\n",
       "    .dataframe tbody tr th {\n",
       "        vertical-align: top;\n",
       "    }\n",
       "\n",
       "    .dataframe thead th {\n",
       "        text-align: right;\n",
       "    }\n",
       "</style>\n",
       "<table border=\"1\" class=\"dataframe\">\n",
       "  <thead>\n",
       "    <tr style=\"text-align: right;\">\n",
       "      <th></th>\n",
       "      <th>Timestamp</th>\n",
       "      <th>OnlineClassParticipation</th>\n",
       "      <th>AssignmentSubmission</th>\n",
       "      <th>EarlyRegistration</th>\n",
       "      <th>ParentGuardianEducation</th>\n",
       "      <th>PerformanceInSecondarySchool</th>\n",
       "      <th>OnlinePracticalTest</th>\n",
       "      <th>StudentLocation</th>\n",
       "      <th>FastInternetService</th>\n",
       "      <th>FinancialAssistance</th>\n",
       "    </tr>\n",
       "  </thead>\n",
       "  <tbody>\n",
       "    <tr>\n",
       "      <th>481</th>\n",
       "      <td>2020/12/01 11:31:14 am CET</td>\n",
       "      <td>Low</td>\n",
       "      <td>High</td>\n",
       "      <td>Yes</td>\n",
       "      <td>Medium</td>\n",
       "      <td>Medium</td>\n",
       "      <td>Medium</td>\n",
       "      <td>Urban</td>\n",
       "      <td>Yes</td>\n",
       "      <td>Medium</td>\n",
       "    </tr>\n",
       "    <tr>\n",
       "      <th>560</th>\n",
       "      <td>2020/11/30 3:40:44 pm CET</td>\n",
       "      <td>High</td>\n",
       "      <td>High</td>\n",
       "      <td>Yes</td>\n",
       "      <td>Low</td>\n",
       "      <td>Low</td>\n",
       "      <td>Low</td>\n",
       "      <td>Rural</td>\n",
       "      <td>No</td>\n",
       "      <td>High</td>\n",
       "    </tr>\n",
       "    <tr>\n",
       "      <th>315</th>\n",
       "      <td>2020/12/01 1:42:09 am CET</td>\n",
       "      <td>High</td>\n",
       "      <td>Medium</td>\n",
       "      <td>Yes</td>\n",
       "      <td>High</td>\n",
       "      <td>High</td>\n",
       "      <td>Medium</td>\n",
       "      <td>Urban</td>\n",
       "      <td>Yes</td>\n",
       "      <td>High</td>\n",
       "    </tr>\n",
       "    <tr>\n",
       "      <th>193</th>\n",
       "      <td>2020/12/01 11:00:07 am CET</td>\n",
       "      <td>Medium</td>\n",
       "      <td>Medium</td>\n",
       "      <td>No</td>\n",
       "      <td>High</td>\n",
       "      <td>High</td>\n",
       "      <td>High</td>\n",
       "      <td>Urban</td>\n",
       "      <td>Yes</td>\n",
       "      <td>High</td>\n",
       "    </tr>\n",
       "    <tr>\n",
       "      <th>805</th>\n",
       "      <td>2020/12/01 12:45:52 pm CET</td>\n",
       "      <td>Medium</td>\n",
       "      <td>Low</td>\n",
       "      <td>Yes</td>\n",
       "      <td>Medium</td>\n",
       "      <td>Medium</td>\n",
       "      <td>Medium</td>\n",
       "      <td>Urban</td>\n",
       "      <td>Yes</td>\n",
       "      <td>Medium</td>\n",
       "    </tr>\n",
       "  </tbody>\n",
       "</table>\n",
       "</div>"
      ],
      "text/plain": [
       "                      Timestamp OnlineClassParticipation AssignmentSubmission  \\\n",
       "481  2020/12/01 11:31:14 am CET                      Low                 High   \n",
       "560   2020/11/30 3:40:44 pm CET                     High                 High   \n",
       "315   2020/12/01 1:42:09 am CET                     High               Medium   \n",
       "193  2020/12/01 11:00:07 am CET                   Medium               Medium   \n",
       "805  2020/12/01 12:45:52 pm CET                   Medium                  Low   \n",
       "\n",
       "    EarlyRegistration ParentGuardianEducation PerformanceInSecondarySchool  \\\n",
       "481               Yes                  Medium                       Medium   \n",
       "560               Yes                     Low                          Low   \n",
       "315               Yes                    High                         High   \n",
       "193                No                    High                         High   \n",
       "805               Yes                  Medium                       Medium   \n",
       "\n",
       "    OnlinePracticalTest StudentLocation FastInternetService  \\\n",
       "481              Medium           Urban                 Yes   \n",
       "560                 Low           Rural                  No   \n",
       "315              Medium           Urban                 Yes   \n",
       "193                High           Urban                 Yes   \n",
       "805              Medium           Urban                 Yes   \n",
       "\n",
       "    FinancialAssistance  \n",
       "481              Medium  \n",
       "560                High  \n",
       "315                High  \n",
       "193                High  \n",
       "805              Medium  "
      ]
     },
     "execution_count": 36,
     "metadata": {},
     "output_type": "execute_result"
    }
   ],
   "source": [
    "df = pd.read_csv(\"An ANN Model for predicting distance learning students performance.csv\")\n",
    "df.sample(5)"
   ]
  },
  {
   "cell_type": "code",
   "execution_count": 37,
   "metadata": {},
   "outputs": [
    {
     "data": {
      "text/plain": [
       "OnlineClassParticipation        object\n",
       "AssignmentSubmission            object\n",
       "EarlyRegistration               object\n",
       "ParentGuardianEducation         object\n",
       "PerformanceInSecondarySchool    object\n",
       "OnlinePracticalTest             object\n",
       "StudentLocation                 object\n",
       "FastInternetService             object\n",
       "FinancialAssistance             object\n",
       "dtype: object"
      ]
     },
     "execution_count": 37,
     "metadata": {},
     "output_type": "execute_result"
    }
   ],
   "source": [
    "df.drop('Timestamp', axis='columns', inplace=True)\n",
    "df.dtypes"
   ]
  },
  {
   "cell_type": "code",
   "execution_count": 38,
   "metadata": {},
   "outputs": [
    {
     "data": {
      "text/plain": [
       "<matplotlib.legend.Legend at 0x2d1564ec910>"
      ]
     },
     "execution_count": 38,
     "metadata": {},
     "output_type": "execute_result"
    },
    {
     "data": {
      "image/png": "[encoded data removed]",
      "text/plain": [
       "<Figure size 432x288 with 1 Axes>"
      ]
     },
     "metadata": {
      "needs_background": "light"
     },
     "output_type": "display_data"
    }
   ],
   "source": [
    "high_fin = df[df.FinancialAssistance=='High'].OnlinePracticalTest\n",
    "med_fin = df[df.FinancialAssistance=='Medium'].OnlinePracticalTest\n",
    "low_fin = df[df.FinancialAssistance=='Low'].OnlinePracticalTest\n",
    "\n",
    "plt.xlabel('Student Performance')\n",
    "plt.ylabel('Numbers of Students')\n",
    "plt.title('Students Perfromance Prediction Visualization With Respect To Financial Assistance')\n",
    "\n",
    "plt.hist([high_fin,med_fin,low_fin],color=['green','yellow','red'],label=['High Finance','Medium Finance','Low Finance'])\n",
    "plt.legend()"
   ]
  },
  {
   "cell_type": "code",
   "execution_count": 39,
   "metadata": {},
   "outputs": [
    {
     "data": {
      "text/plain": [
       "<matplotlib.legend.Legend at 0x2d172fc8700>"
      ]
     },
     "execution_count": 39,
     "metadata": {},
     "output_type": "execute_result"
    },
    {
     "data": {
      "image/png": "[encoded data removed]",
      "text/plain": [
       "<Figure size 432x288 with 1 Axes>"
      ]
     },
     "metadata": {
      "needs_background": "light"
     },
     "output_type": "display_data"
    }
   ],
   "source": [
    "high_part = df[df.OnlineClassParticipation=='High'].OnlinePracticalTest\n",
    "med_part = df[df.OnlineClassParticipation=='Medium'].OnlinePracticalTest\n",
    "low_part = df[df.OnlineClassParticipation=='Low'].OnlinePracticalTest\n",
    "\n",
    "plt.xlabel('Student Performance')\n",
    "plt.ylabel('Numbers of Students')\n",
    "plt.title('Students Perfromance Prediction Visualization With Respect To Online Class Participation')\n",
    "\n",
    "plt.hist([high_part,med_part,low_part],color=['green','yellow','red'],label=['High Participation','Medium Participation','Low Participation'])\n",
    "plt.legend()"
   ]
  },
  {
   "cell_type": "code",
   "execution_count": 40,
   "metadata": {},
   "outputs": [
    {
     "data": {
      "text/plain": [
       "<matplotlib.legend.Legend at 0x2d171a4d9d0>"
      ]
     },
     "execution_count": 40,
     "metadata": {},
     "output_type": "execute_result"
    },
    {
     "data": {
      "image/png": "[encoded data removed]",
      "text/plain": [
       "<Figure size 432x288 with 1 Axes>"
      ]
     },
     "metadata": {
      "needs_background": "light"
     },
     "output_type": "display_data"
    }
   ],
   "source": [
    "high_perf = df[df.PerformanceInSecondarySchool=='High'].OnlinePracticalTest\n",
    "med_perf = df[df.PerformanceInSecondarySchool=='Medium'].OnlinePracticalTest\n",
    "low_perf = df[df.PerformanceInSecondarySchool=='Low'].OnlinePracticalTest\n",
    "\n",
    "plt.xlabel('Student Performance')\n",
    "plt.ylabel('Numbers of Students')\n",
    "plt.title('Students Perfromance Prediction Visualization With Respect To Performance In Secondary School')\n",
    "\n",
    "plt.hist([high_perf,med_perf,low_perf],color=['green','yellow','red'],label=['High Performance','Medium Performance','Low Performance'])\n",
    "plt.legend()"
   ]
  },
  {
   "cell_type": "code",
   "execution_count": 41,
   "metadata": {},
   "outputs": [
    {
     "data": {
      "text/plain": [
       "<matplotlib.legend.Legend at 0x2d174256be0>"
      ]
     },
     "execution_count": 41,
     "metadata": {},
     "output_type": "execute_result"
    },
    {
     "data": {
      "image/png": "[encoded data removed]",
      "text/plain": [
       "<Figure size 432x288 with 1 Axes>"
      ]
     },
     "metadata": {
      "needs_background": "light"
     },
     "output_type": "display_data"
    }
   ],
   "source": [
    "urban_area = df[df.StudentLocation=='Urban'].OnlinePracticalTest\n",
    "rural_area = df[df.StudentLocation=='Rural'].OnlinePracticalTest\n",
    "\n",
    "plt.xlabel('Student Performance')\n",
    "plt.ylabel('Numbers of Students')\n",
    "plt.title('Students Perfromance Prediction Visualization With Respect To Student Location')\n",
    "\n",
    "plt.hist([urban_area,rural_area],color=['green','red'],label=['Urban','Rural'])\n",
    "plt.legend()"
   ]
  },
  {
   "cell_type": "code",
   "execution_count": 42,
   "metadata": {},
   "outputs": [
    {
     "data": {
      "text/plain": [
       "<matplotlib.legend.Legend at 0x2d171b59fa0>"
      ]
     },
     "execution_count": 42,
     "metadata": {},
     "output_type": "execute_result"
    },
    {
     "data": {
      "image/png": "[encoded data removed]",
      "text/plain": [
       "<Figure size 432x288 with 1 Axes>"
      ]
     },
     "metadata": {
      "needs_background": "light"
     },
     "output_type": "display_data"
    }
   ],
   "source": [
    "fast_int = df[df.FastInternetService=='Yes'].OnlinePracticalTest\n",
    "slow_int = df[df.FastInternetService=='No'].OnlinePracticalTest\n",
    "\n",
    "plt.xlabel('Student Performance')\n",
    "plt.ylabel('Numbers of Students')\n",
    "plt.title('Students Perfromance Prediction Visualization With Respect To Fast Internet Service')\n",
    "\n",
    "plt.hist([fast_int,slow_int],color=['green','red'],label=['Fast Internet','Slow Internet'])\n",
    "plt.legend()"
   ]
  },
  {
   "cell_type": "code",
   "execution_count": 43,
   "metadata": {},
   "outputs": [],
   "source": [
    "def print_column_unique_values(df):\n",
    "    for column in df:\n",
    "        if df[column].dtypes=='object':\n",
    "            print(f'{column}: {df[column].unique()}')"
   ]
  },
  {
   "cell_type": "code",
   "execution_count": 44,
   "metadata": {},
   "outputs": [
    {
     "name": "stdout",
     "output_type": "stream",
     "text": [
      "OnlineClassParticipation: ['Medium' 'High' 'Low']\n",
      "AssignmentSubmission: ['High' 'Medium' 'Low']\n",
      "EarlyRegistration: ['Yes' 'No']\n",
      "ParentGuardianEducation: ['Medium' 'High' 'Low']\n",
      "PerformanceInSecondarySchool: ['High' 'Medium' 'Low']\n",
      "OnlinePracticalTest: ['Medium' 'High' 'Low']\n",
      "StudentLocation: ['Urban' 'Rural']\n",
      "FastInternetService: ['Yes' 'No']\n",
      "FinancialAssistance: ['High' 'Medium' 'Low']\n"
     ]
    }
   ],
   "source": [
    "print_column_unique_values(df)"
   ]
  },
  {
   "cell_type": "code",
   "execution_count": 45,
   "metadata": {},
   "outputs": [],
   "source": [
    "df['StudentLocation'].replace({'Urban': 1, 'Rural': 0},inplace=True)"
   ]
  },
  {
   "cell_type": "code",
   "execution_count": 46,
   "metadata": {},
   "outputs": [],
   "source": [
    "yes_no_cols = ['EarlyRegistration', 'FastInternetService']\n",
    "    \n",
    "for col in yes_no_cols:\n",
    "    df[col].replace({'Yes': 1,'No': 0},inplace=True)"
   ]
  },
  {
   "cell_type": "code",
   "execution_count": 47,
   "metadata": {},
   "outputs": [
    {
     "name": "stdout",
     "output_type": "stream",
     "text": [
      "OnlineClassParticipation: ['Medium' 'High' 'Low']\n",
      "AssignmentSubmission: ['High' 'Medium' 'Low']\n",
      "EarlyRegistration: [1 0]\n",
      "ParentGuardianEducation: ['Medium' 'High' 'Low']\n",
      "PerformanceInSecondarySchool: ['High' 'Medium' 'Low']\n",
      "OnlinePracticalTest: ['Medium' 'High' 'Low']\n",
      "StudentLocation: [1 0]\n",
      "FastInternetService: [1 0]\n",
      "FinancialAssistance: ['High' 'Medium' 'Low']\n"
     ]
    }
   ],
   "source": [
    "for column in df:\n",
    "    print(f'{column}: {df[column].unique()}')"
   ]
  },
  {
   "cell_type": "code",
   "execution_count": 48,
   "metadata": {},
   "outputs": [
    {
     "data": {
      "text/plain": [
       "Index(['EarlyRegistration', 'StudentLocation', 'FastInternetService',\n",
       "       'OnlineClassParticipation_High', 'OnlineClassParticipation_Low',\n",
       "       'OnlineClassParticipation_Medium', 'AssignmentSubmission_High',\n",
       "       'AssignmentSubmission_Low', 'AssignmentSubmission_Medium',\n",
       "       'ParentGuardianEducation_High', 'ParentGuardianEducation_Low',\n",
       "       'ParentGuardianEducation_Medium', 'PerformanceInSecondarySchool_High',\n",
       "       'PerformanceInSecondarySchool_Low',\n",
       "       'PerformanceInSecondarySchool_Medium', 'OnlinePracticalTest_High',\n",
       "       'OnlinePracticalTest_Low', 'OnlinePracticalTest_Medium',\n",
       "       'FinancialAssistance_High', 'FinancialAssistance_Low',\n",
       "       'FinancialAssistance_Medium'],\n",
       "      dtype='object')"
      ]
     },
     "execution_count": 48,
     "metadata": {},
     "output_type": "execute_result"
    }
   ],
   "source": [
    "df = pd.get_dummies(data=df, columns=['OnlineClassParticipation','AssignmentSubmission','ParentGuardianEducation',\n",
    "                     'PerformanceInSecondarySchool','OnlinePracticalTest','FinancialAssistance'])\n",
    "df.columns"
   ]
  },
  {
   "cell_type": "code",
   "execution_count": 49,
   "metadata": {},
   "outputs": [],
   "source": [
    "# from sklearn.preprocessing import MinMaxScaler\n",
    "# scaler = MinMaxScaler()\n",
    "# df['OnlinePracticalTest'] = scaler.fit_transform(df['OnlinePracticalTest'])"
   ]
  },
  {
   "cell_type": "code",
   "execution_count": 50,
   "metadata": {},
   "outputs": [
    {
     "name": "stdout",
     "output_type": "stream",
     "text": [
      "EarlyRegistration: [1 0]\n",
      "StudentLocation: [1 0]\n",
      "FastInternetService: [1 0]\n",
      "OnlineClassParticipation_High: [0 1]\n",
      "OnlineClassParticipation_Low: [0 1]\n",
      "OnlineClassParticipation_Medium: [1 0]\n",
      "AssignmentSubmission_High: [1 0]\n",
      "AssignmentSubmission_Low: [0 1]\n",
      "AssignmentSubmission_Medium: [0 1]\n",
      "ParentGuardianEducation_High: [0 1]\n",
      "ParentGuardianEducation_Low: [0 1]\n",
      "ParentGuardianEducation_Medium: [1 0]\n",
      "PerformanceInSecondarySchool_High: [1 0]\n",
      "PerformanceInSecondarySchool_Low: [0 1]\n",
      "PerformanceInSecondarySchool_Medium: [0 1]\n",
      "OnlinePracticalTest_High: [0 1]\n",
      "OnlinePracticalTest_Low: [0 1]\n",
      "OnlinePracticalTest_Medium: [1 0]\n",
      "FinancialAssistance_High: [1 0]\n",
      "FinancialAssistance_Low: [0 1]\n",
      "FinancialAssistance_Medium: [0 1]\n"
     ]
    }
   ],
   "source": [
    "for column in df:\n",
    "    print(f'{column}: {df[column].unique()}')"
   ]
  },
  {
   "cell_type": "code",
   "execution_count": 51,
   "metadata": {},
   "outputs": [
    {
     "data": {
      "text/plain": [
       "EarlyRegistration                      int64\n",
       "StudentLocation                        int64\n",
       "FastInternetService                    int64\n",
       "OnlineClassParticipation_High          uint8\n",
       "OnlineClassParticipation_Low           uint8\n",
       "OnlineClassParticipation_Medium        uint8\n",
       "AssignmentSubmission_High              uint8\n",
       "AssignmentSubmission_Low               uint8\n",
       "AssignmentSubmission_Medium            uint8\n",
       "ParentGuardianEducation_High           uint8\n",
       "ParentGuardianEducation_Low            uint8\n",
       "ParentGuardianEducation_Medium         uint8\n",
       "PerformanceInSecondarySchool_High      uint8\n",
       "PerformanceInSecondarySchool_Low       uint8\n",
       "PerformanceInSecondarySchool_Medium    uint8\n",
       "OnlinePracticalTest_High               uint8\n",
       "OnlinePracticalTest_Low                uint8\n",
       "OnlinePracticalTest_Medium             uint8\n",
       "FinancialAssistance_High               uint8\n",
       "FinancialAssistance_Low                uint8\n",
       "FinancialAssistance_Medium             uint8\n",
       "dtype: object"
      ]
     },
     "execution_count": 51,
     "metadata": {},
     "output_type": "execute_result"
    }
   ],
   "source": [
    "df.dtypes"
   ]
  },
  {
   "cell_type": "code",
   "execution_count": 52,
   "metadata": {},
   "outputs": [
    {
     "data": {
      "text/html": [
       "<div>\n",
       "<style scoped>\n",
       "    .dataframe tbody tr th:only-of-type {\n",
       "        vertical-align: middle;\n",
       "    }\n",
       "\n",
       "    .dataframe tbody tr th {\n",
       "        vertical-align: top;\n",
       "    }\n",
       "\n",
       "    .dataframe thead th {\n",
       "        text-align: right;\n",
       "    }\n",
       "</style>\n",
       "<table border=\"1\" class=\"dataframe\">\n",
       "  <thead>\n",
       "    <tr style=\"text-align: right;\">\n",
       "      <th></th>\n",
       "      <th>EarlyRegistration</th>\n",
       "      <th>StudentLocation</th>\n",
       "      <th>FastInternetService</th>\n",
       "      <th>OnlineClassParticipation_High</th>\n",
       "      <th>OnlineClassParticipation_Low</th>\n",
       "      <th>OnlineClassParticipation_Medium</th>\n",
       "      <th>AssignmentSubmission_High</th>\n",
       "      <th>AssignmentSubmission_Low</th>\n",
       "      <th>AssignmentSubmission_Medium</th>\n",
       "      <th>ParentGuardianEducation_High</th>\n",
       "      <th>...</th>\n",
       "      <th>ParentGuardianEducation_Medium</th>\n",
       "      <th>PerformanceInSecondarySchool_High</th>\n",
       "      <th>PerformanceInSecondarySchool_Low</th>\n",
       "      <th>PerformanceInSecondarySchool_Medium</th>\n",
       "      <th>OnlinePracticalTest_High</th>\n",
       "      <th>OnlinePracticalTest_Low</th>\n",
       "      <th>OnlinePracticalTest_Medium</th>\n",
       "      <th>FinancialAssistance_High</th>\n",
       "      <th>FinancialAssistance_Low</th>\n",
       "      <th>FinancialAssistance_Medium</th>\n",
       "    </tr>\n",
       "  </thead>\n",
       "  <tbody>\n",
       "    <tr>\n",
       "      <th>857</th>\n",
       "      <td>1</td>\n",
       "      <td>1</td>\n",
       "      <td>1</td>\n",
       "      <td>0</td>\n",
       "      <td>1</td>\n",
       "      <td>0</td>\n",
       "      <td>0</td>\n",
       "      <td>0</td>\n",
       "      <td>1</td>\n",
       "      <td>0</td>\n",
       "      <td>...</td>\n",
       "      <td>1</td>\n",
       "      <td>0</td>\n",
       "      <td>0</td>\n",
       "      <td>1</td>\n",
       "      <td>1</td>\n",
       "      <td>0</td>\n",
       "      <td>0</td>\n",
       "      <td>1</td>\n",
       "      <td>0</td>\n",
       "      <td>0</td>\n",
       "    </tr>\n",
       "    <tr>\n",
       "      <th>796</th>\n",
       "      <td>0</td>\n",
       "      <td>1</td>\n",
       "      <td>1</td>\n",
       "      <td>0</td>\n",
       "      <td>1</td>\n",
       "      <td>0</td>\n",
       "      <td>0</td>\n",
       "      <td>0</td>\n",
       "      <td>1</td>\n",
       "      <td>0</td>\n",
       "      <td>...</td>\n",
       "      <td>0</td>\n",
       "      <td>0</td>\n",
       "      <td>0</td>\n",
       "      <td>1</td>\n",
       "      <td>1</td>\n",
       "      <td>0</td>\n",
       "      <td>0</td>\n",
       "      <td>0</td>\n",
       "      <td>0</td>\n",
       "      <td>1</td>\n",
       "    </tr>\n",
       "    <tr>\n",
       "      <th>758</th>\n",
       "      <td>0</td>\n",
       "      <td>1</td>\n",
       "      <td>1</td>\n",
       "      <td>0</td>\n",
       "      <td>0</td>\n",
       "      <td>1</td>\n",
       "      <td>1</td>\n",
       "      <td>0</td>\n",
       "      <td>0</td>\n",
       "      <td>1</td>\n",
       "      <td>...</td>\n",
       "      <td>0</td>\n",
       "      <td>1</td>\n",
       "      <td>0</td>\n",
       "      <td>0</td>\n",
       "      <td>1</td>\n",
       "      <td>0</td>\n",
       "      <td>0</td>\n",
       "      <td>0</td>\n",
       "      <td>0</td>\n",
       "      <td>1</td>\n",
       "    </tr>\n",
       "    <tr>\n",
       "      <th>435</th>\n",
       "      <td>1</td>\n",
       "      <td>0</td>\n",
       "      <td>1</td>\n",
       "      <td>0</td>\n",
       "      <td>1</td>\n",
       "      <td>0</td>\n",
       "      <td>1</td>\n",
       "      <td>0</td>\n",
       "      <td>0</td>\n",
       "      <td>0</td>\n",
       "      <td>...</td>\n",
       "      <td>1</td>\n",
       "      <td>0</td>\n",
       "      <td>0</td>\n",
       "      <td>1</td>\n",
       "      <td>0</td>\n",
       "      <td>0</td>\n",
       "      <td>1</td>\n",
       "      <td>0</td>\n",
       "      <td>0</td>\n",
       "      <td>1</td>\n",
       "    </tr>\n",
       "    <tr>\n",
       "      <th>851</th>\n",
       "      <td>0</td>\n",
       "      <td>1</td>\n",
       "      <td>1</td>\n",
       "      <td>1</td>\n",
       "      <td>0</td>\n",
       "      <td>0</td>\n",
       "      <td>1</td>\n",
       "      <td>0</td>\n",
       "      <td>0</td>\n",
       "      <td>1</td>\n",
       "      <td>...</td>\n",
       "      <td>0</td>\n",
       "      <td>1</td>\n",
       "      <td>0</td>\n",
       "      <td>0</td>\n",
       "      <td>1</td>\n",
       "      <td>0</td>\n",
       "      <td>0</td>\n",
       "      <td>1</td>\n",
       "      <td>0</td>\n",
       "      <td>0</td>\n",
       "    </tr>\n",
       "  </tbody>\n",
       "</table>\n",
       "<p>5 rows × 21 columns</p>\n",
       "</div>"
      ],
      "text/plain": [
       "     EarlyRegistration  StudentLocation  FastInternetService  \\\n",
       "857                  1                1                    1   \n",
       "796                  0                1                    1   \n",
       "758                  0                1                    1   \n",
       "435                  1                0                    1   \n",
       "851                  0                1                    1   \n",
       "\n",
       "     OnlineClassParticipation_High  OnlineClassParticipation_Low  \\\n",
       "857                              0                             1   \n",
       "796                              0                             1   \n",
       "758                              0                             0   \n",
       "435                              0                             1   \n",
       "851                              1                             0   \n",
       "\n",
       "     OnlineClassParticipation_Medium  AssignmentSubmission_High  \\\n",
       "857                                0                          0   \n",
       "796                                0                          0   \n",
       "758                                1                          1   \n",
       "435                                0                          1   \n",
       "851                                0                          1   \n",
       "\n",
       "     AssignmentSubmission_Low  AssignmentSubmission_Medium  \\\n",
       "857                         0                            1   \n",
       "796                         0                            1   \n",
       "758                         0                            0   \n",
       "435                         0                            0   \n",
       "851                         0                            0   \n",
       "\n",
       "     ParentGuardianEducation_High  ...  ParentGuardianEducation_Medium  \\\n",
       "857                             0  ...                               1   \n",
       "796                             0  ...                               0   \n",
       "758                             1  ...                               0   \n",
       "435                             0  ...                               1   \n",
       "851                             1  ...                               0   \n",
       "\n",
       "     PerformanceInSecondarySchool_High  PerformanceInSecondarySchool_Low  \\\n",
       "857                                  0                                 0   \n",
       "796                                  0                                 0   \n",
       "758                                  1                                 0   \n",
       "435                                  0                                 0   \n",
       "851                                  1                                 0   \n",
       "\n",
       "     PerformanceInSecondarySchool_Medium  OnlinePracticalTest_High  \\\n",
       "857                                    1                         1   \n",
       "796                                    1                         1   \n",
       "758                                    0                         1   \n",
       "435                                    1                         0   \n",
       "851                                    0                         1   \n",
       "\n",
       "     OnlinePracticalTest_Low  OnlinePracticalTest_Medium  \\\n",
       "857                        0                           0   \n",
       "796                        0                           0   \n",
       "758                        0                           0   \n",
       "435                        0                           1   \n",
       "851                        0                           0   \n",
       "\n",
       "     FinancialAssistance_High  FinancialAssistance_Low  \\\n",
       "857                         1                        0   \n",
       "796                         0                        0   \n",
       "758                         0                        0   \n",
       "435                         0                        0   \n",
       "851                         1                        0   \n",
       "\n",
       "     FinancialAssistance_Medium  \n",
       "857                           0  \n",
       "796                           1  \n",
       "758                           1  \n",
       "435                           1  \n",
       "851                           0  \n",
       "\n",
       "[5 rows x 21 columns]"
      ]
     },
     "execution_count": 52,
     "metadata": {},
     "output_type": "execute_result"
    }
   ],
   "source": [
    "df.sample(5)"
   ]
  },
  {
   "cell_type": "code",
   "execution_count": 53,
   "metadata": {},
   "outputs": [],
   "source": [
    "X = df.drop(['OnlinePracticalTest_High','OnlinePracticalTest_Medium','OnlinePracticalTest_Low'],axis='columns')\n",
    "y = df['OnlinePracticalTest_High']"
   ]
  },
  {
   "cell_type": "code",
   "execution_count": 54,
   "metadata": {},
   "outputs": [],
   "source": [
    "X_train, X_test, y_train, y_test = train_test_split(X,y,test_size=0.2,random_state=5)"
   ]
  },
  {
   "cell_type": "code",
   "execution_count": 55,
   "metadata": {},
   "outputs": [
    {
     "data": {
      "text/plain": [
       "(800, 18)"
      ]
     },
     "execution_count": 55,
     "metadata": {},
     "output_type": "execute_result"
    }
   ],
   "source": [
    "X_train.shape"
   ]
  },
  {
   "cell_type": "code",
   "execution_count": 56,
   "metadata": {},
   "outputs": [
    {
     "data": {
      "text/plain": [
       "(200, 18)"
      ]
     },
     "execution_count": 56,
     "metadata": {},
     "output_type": "execute_result"
    }
   ],
   "source": [
    "X_test.shape"
   ]
  },
  {
   "cell_type": "code",
   "execution_count": 57,
   "metadata": {},
   "outputs": [
    {
     "data": {
      "text/plain": [
       "18"
      ]
     },
     "execution_count": 57,
     "metadata": {},
     "output_type": "execute_result"
    }
   ],
   "source": [
    "len(X_train.columns)"
   ]
  },
  {
   "cell_type": "code",
   "execution_count": 58,
   "metadata": {},
   "outputs": [
    {
     "name": "stdout",
     "output_type": "stream",
     "text": [
      "Epoch 1/100\n",
      "25/25 [==============================] - 1s 2ms/step - loss: 0.7115 - accuracy: 0.4888\n",
      "Epoch 2/100\n",
      "25/25 [==============================] - 0s 2ms/step - loss: 0.6777 - accuracy: 0.5163\n",
      "Epoch 3/100\n",
      "25/25 [==============================] - 0s 2ms/step - loss: 0.6534 - accuracy: 0.6637\n",
      "Epoch 4/100\n",
      "25/25 [==============================] - 0s 2ms/step - loss: 0.6301 - accuracy: 0.7113\n",
      "Epoch 5/100\n",
      "25/25 [==============================] - 0s 2ms/step - loss: 0.6073 - accuracy: 0.7200\n",
      "Epoch 6/100\n",
      "25/25 [==============================] - 0s 2ms/step - loss: 0.5875 - accuracy: 0.7275\n",
      "Epoch 7/100\n",
      "25/25 [==============================] - 0s 3ms/step - loss: 0.5711 - accuracy: 0.7250\n",
      "Epoch 8/100\n",
      "25/25 [==============================] - 0s 2ms/step - loss: 0.5571 - accuracy: 0.7350\n",
      "Epoch 9/100\n",
      "25/25 [==============================] - 0s 2ms/step - loss: 0.5462 - accuracy: 0.7462\n",
      "Epoch 10/100\n",
      "25/25 [==============================] - 0s 2ms/step - loss: 0.5354 - accuracy: 0.7437\n",
      "Epoch 11/100\n",
      "25/25 [==============================] - 0s 2ms/step - loss: 0.5260 - accuracy: 0.7475\n",
      "Epoch 12/100\n",
      "25/25 [==============================] - 0s 2ms/step - loss: 0.5161 - accuracy: 0.7500\n",
      "Epoch 13/100\n",
      "25/25 [==============================] - 0s 2ms/step - loss: 0.5079 - accuracy: 0.7525\n",
      "Epoch 14/100\n",
      "25/25 [==============================] - 0s 2ms/step - loss: 0.4985 - accuracy: 0.7575\n",
      "Epoch 15/100\n",
      "25/25 [==============================] - 0s 2ms/step - loss: 0.4902 - accuracy: 0.7588\n",
      "Epoch 16/100\n",
      "25/25 [==============================] - 0s 2ms/step - loss: 0.4813 - accuracy: 0.7700\n",
      "Epoch 17/100\n",
      "25/25 [==============================] - 0s 2ms/step - loss: 0.4750 - accuracy: 0.7800\n",
      "Epoch 18/100\n",
      "25/25 [==============================] - 0s 2ms/step - loss: 0.4690 - accuracy: 0.7850\n",
      "Epoch 19/100\n",
      "25/25 [==============================] - 0s 2ms/step - loss: 0.4636 - accuracy: 0.7862\n",
      "Epoch 20/100\n",
      "25/25 [==============================] - 0s 2ms/step - loss: 0.4588 - accuracy: 0.7937\n",
      "Epoch 21/100\n",
      "25/25 [==============================] - 0s 2ms/step - loss: 0.4522 - accuracy: 0.7937\n",
      "Epoch 22/100\n",
      "25/25 [==============================] - 0s 2ms/step - loss: 0.4480 - accuracy: 0.7950\n",
      "Epoch 23/100\n",
      "25/25 [==============================] - 0s 3ms/step - loss: 0.4439 - accuracy: 0.8062\n",
      "Epoch 24/100\n",
      "25/25 [==============================] - 0s 2ms/step - loss: 0.4396 - accuracy: 0.8100\n",
      "Epoch 25/100\n",
      "25/25 [==============================] - 0s 2ms/step - loss: 0.4384 - accuracy: 0.8100\n",
      "Epoch 26/100\n",
      "25/25 [==============================] - 0s 2ms/step - loss: 0.4356 - accuracy: 0.8188\n",
      "Epoch 27/100\n",
      "25/25 [==============================] - 0s 2ms/step - loss: 0.4319 - accuracy: 0.8163\n",
      "Epoch 28/100\n",
      "25/25 [==============================] - 0s 2ms/step - loss: 0.4289 - accuracy: 0.8188\n",
      "Epoch 29/100\n",
      "25/25 [==============================] - 0s 2ms/step - loss: 0.4269 - accuracy: 0.8150\n",
      "Epoch 30/100\n",
      "25/25 [==============================] - 0s 2ms/step - loss: 0.4247 - accuracy: 0.8200\n",
      "Epoch 31/100\n",
      "25/25 [==============================] - 0s 2ms/step - loss: 0.4236 - accuracy: 0.8188\n",
      "Epoch 32/100\n",
      "25/25 [==============================] - 0s 2ms/step - loss: 0.4214 - accuracy: 0.8213\n",
      "Epoch 33/100\n",
      "25/25 [==============================] - 0s 2ms/step - loss: 0.4195 - accuracy: 0.8238\n",
      "Epoch 34/100\n",
      "25/25 [==============================] - 0s 2ms/step - loss: 0.4171 - accuracy: 0.8213\n",
      "Epoch 35/100\n",
      "25/25 [==============================] - 0s 2ms/step - loss: 0.4168 - accuracy: 0.8200\n",
      "Epoch 36/100\n",
      "25/25 [==============================] - 0s 2ms/step - loss: 0.4157 - accuracy: 0.8225\n",
      "Epoch 37/100\n",
      "25/25 [==============================] - 0s 2ms/step - loss: 0.4154 - accuracy: 0.8225\n",
      "Epoch 38/100\n",
      "25/25 [==============================] - 0s 2ms/step - loss: 0.4141 - accuracy: 0.8213\n",
      "Epoch 39/100\n",
      "25/25 [==============================] - 0s 2ms/step - loss: 0.4109 - accuracy: 0.8188\n",
      "Epoch 40/100\n",
      "25/25 [==============================] - 0s 2ms/step - loss: 0.4094 - accuracy: 0.8250\n",
      "Epoch 41/100\n",
      "25/25 [==============================] - 0s 2ms/step - loss: 0.4088 - accuracy: 0.8275\n",
      "Epoch 42/100\n",
      "25/25 [==============================] - 0s 2ms/step - loss: 0.4081 - accuracy: 0.8200\n",
      "Epoch 43/100\n",
      "25/25 [==============================] - 0s 2ms/step - loss: 0.4071 - accuracy: 0.8275\n",
      "Epoch 44/100\n",
      "25/25 [==============================] - 0s 2ms/step - loss: 0.4068 - accuracy: 0.8238\n",
      "Epoch 45/100\n",
      "25/25 [==============================] - 0s 2ms/step - loss: 0.4045 - accuracy: 0.8300\n",
      "Epoch 46/100\n",
      "25/25 [==============================] - 0s 2ms/step - loss: 0.4039 - accuracy: 0.8288\n",
      "Epoch 47/100\n",
      "25/25 [==============================] - 0s 2ms/step - loss: 0.4048 - accuracy: 0.8200\n",
      "Epoch 48/100\n",
      "25/25 [==============================] - 0s 3ms/step - loss: 0.4010 - accuracy: 0.8200\n",
      "Epoch 49/100\n",
      "25/25 [==============================] - 0s 2ms/step - loss: 0.4019 - accuracy: 0.8238\n",
      "Epoch 50/100\n",
      "25/25 [==============================] - 0s 3ms/step - loss: 0.3986 - accuracy: 0.8250\n",
      "Epoch 51/100\n",
      "25/25 [==============================] - 0s 2ms/step - loss: 0.3976 - accuracy: 0.8300\n",
      "Epoch 52/100\n",
      "25/25 [==============================] - 0s 2ms/step - loss: 0.3972 - accuracy: 0.8263\n",
      "Epoch 53/100\n",
      "25/25 [==============================] - 0s 3ms/step - loss: 0.3958 - accuracy: 0.8288\n",
      "Epoch 54/100\n",
      "25/25 [==============================] - 0s 2ms/step - loss: 0.3956 - accuracy: 0.8350\n",
      "Epoch 55/100\n",
      "25/25 [==============================] - 0s 2ms/step - loss: 0.3933 - accuracy: 0.8350\n",
      "Epoch 56/100\n",
      "25/25 [==============================] - 0s 2ms/step - loss: 0.3920 - accuracy: 0.8350\n",
      "Epoch 57/100\n",
      "25/25 [==============================] - 0s 2ms/step - loss: 0.3925 - accuracy: 0.8350\n",
      "Epoch 58/100\n",
      "25/25 [==============================] - 0s 2ms/step - loss: 0.3949 - accuracy: 0.8313\n",
      "Epoch 59/100\n",
      "25/25 [==============================] - 0s 2ms/step - loss: 0.3915 - accuracy: 0.8375\n",
      "Epoch 60/100\n",
      "25/25 [==============================] - 0s 2ms/step - loss: 0.3915 - accuracy: 0.8400\n",
      "Epoch 61/100\n",
      "25/25 [==============================] - 0s 2ms/step - loss: 0.3900 - accuracy: 0.8338\n",
      "Epoch 62/100\n",
      "25/25 [==============================] - 0s 2ms/step - loss: 0.3885 - accuracy: 0.8363\n",
      "Epoch 63/100\n",
      "25/25 [==============================] - 0s 2ms/step - loss: 0.3894 - accuracy: 0.8300\n",
      "Epoch 64/100\n",
      "25/25 [==============================] - 0s 2ms/step - loss: 0.3890 - accuracy: 0.8338\n",
      "Epoch 65/100\n",
      "25/25 [==============================] - 0s 2ms/step - loss: 0.3866 - accuracy: 0.8350\n",
      "Epoch 66/100\n",
      "25/25 [==============================] - 0s 2ms/step - loss: 0.3865 - accuracy: 0.8350\n",
      "Epoch 67/100\n",
      "25/25 [==============================] - 0s 2ms/step - loss: 0.3870 - accuracy: 0.8388\n",
      "Epoch 68/100\n",
      "25/25 [==============================] - 0s 2ms/step - loss: 0.3848 - accuracy: 0.8388\n",
      "Epoch 69/100\n",
      "25/25 [==============================] - 0s 2ms/step - loss: 0.3829 - accuracy: 0.8400\n",
      "Epoch 70/100\n",
      "25/25 [==============================] - 0s 2ms/step - loss: 0.3826 - accuracy: 0.8375\n",
      "Epoch 71/100\n",
      "25/25 [==============================] - 0s 2ms/step - loss: 0.3825 - accuracy: 0.8400\n",
      "Epoch 72/100\n",
      "25/25 [==============================] - 0s 3ms/step - loss: 0.3812 - accuracy: 0.8400\n",
      "Epoch 73/100\n",
      "25/25 [==============================] - 0s 2ms/step - loss: 0.3832 - accuracy: 0.8363\n",
      "Epoch 74/100\n",
      "25/25 [==============================] - 0s 2ms/step - loss: 0.3822 - accuracy: 0.8400\n",
      "Epoch 75/100\n",
      "25/25 [==============================] - 0s 2ms/step - loss: 0.3798 - accuracy: 0.8388\n",
      "Epoch 76/100\n",
      "25/25 [==============================] - 0s 2ms/step - loss: 0.3798 - accuracy: 0.8363\n",
      "Epoch 77/100\n",
      "25/25 [==============================] - 0s 2ms/step - loss: 0.3798 - accuracy: 0.8413\n",
      "Epoch 78/100\n",
      "25/25 [==============================] - 0s 2ms/step - loss: 0.3779 - accuracy: 0.8425\n",
      "Epoch 79/100\n",
      "25/25 [==============================] - 0s 2ms/step - loss: 0.3769 - accuracy: 0.8438\n",
      "Epoch 80/100\n",
      "25/25 [==============================] - 0s 2ms/step - loss: 0.3785 - accuracy: 0.8388\n",
      "Epoch 81/100\n",
      "25/25 [==============================] - 0s 2ms/step - loss: 0.3832 - accuracy: 0.8325\n",
      "Epoch 82/100\n",
      "25/25 [==============================] - 0s 2ms/step - loss: 0.3770 - accuracy: 0.8300\n",
      "Epoch 83/100\n"
     ]
    },
    {
     "name": "stdout",
     "output_type": "stream",
     "text": [
      "25/25 [==============================] - 0s 2ms/step - loss: 0.3756 - accuracy: 0.8413\n",
      "Epoch 84/100\n",
      "25/25 [==============================] - 0s 2ms/step - loss: 0.3746 - accuracy: 0.8438\n",
      "Epoch 85/100\n",
      "25/25 [==============================] - 0s 2ms/step - loss: 0.3737 - accuracy: 0.8425\n",
      "Epoch 86/100\n",
      "25/25 [==============================] - 0s 2ms/step - loss: 0.3744 - accuracy: 0.8400\n",
      "Epoch 87/100\n",
      "25/25 [==============================] - 0s 2ms/step - loss: 0.3764 - accuracy: 0.8325\n",
      "Epoch 88/100\n",
      "25/25 [==============================] - 0s 2ms/step - loss: 0.3763 - accuracy: 0.8363\n",
      "Epoch 89/100\n",
      "25/25 [==============================] - 0s 2ms/step - loss: 0.3742 - accuracy: 0.8363\n",
      "Epoch 90/100\n",
      "25/25 [==============================] - 0s 2ms/step - loss: 0.3733 - accuracy: 0.8375\n",
      "Epoch 91/100\n",
      "25/25 [==============================] - 0s 2ms/step - loss: 0.3702 - accuracy: 0.8425\n",
      "Epoch 92/100\n",
      "25/25 [==============================] - 0s 2ms/step - loss: 0.3718 - accuracy: 0.8363\n",
      "Epoch 93/100\n",
      "25/25 [==============================] - 0s 2ms/step - loss: 0.3708 - accuracy: 0.8425\n",
      "Epoch 94/100\n",
      "25/25 [==============================] - 0s 2ms/step - loss: 0.3697 - accuracy: 0.8438\n",
      "Epoch 95/100\n",
      "25/25 [==============================] - 0s 2ms/step - loss: 0.3703 - accuracy: 0.8363\n",
      "Epoch 96/100\n",
      "25/25 [==============================] - 0s 2ms/step - loss: 0.3691 - accuracy: 0.8425\n",
      "Epoch 97/100\n",
      "25/25 [==============================] - 0s 2ms/step - loss: 0.3698 - accuracy: 0.8413\n",
      "Epoch 98/100\n",
      "25/25 [==============================] - 0s 2ms/step - loss: 0.3673 - accuracy: 0.8425\n",
      "Epoch 99/100\n",
      "25/25 [==============================] - 0s 2ms/step - loss: 0.3699 - accuracy: 0.8350\n",
      "Epoch 100/100\n",
      "25/25 [==============================] - 0s 2ms/step - loss: 0.3724 - accuracy: 0.8388\n"
     ]
    },
    {
     "data": {
      "text/plain": [
       "<keras.callbacks.History at 0x2d174371d30>"
      ]
     },
     "execution_count": 58,
     "metadata": {},
     "output_type": "execute_result"
    }
   ],
   "source": [
    "model = keras.Sequential([\n",
    "    keras.layers.Dense(16, input_shape=(18,), activation='relu'),\n",
    "    keras.layers.Dense(14, activation='relu'),\n",
    "    keras.layers.Dense(1, activation='sigmoid')\n",
    "])\n",
    "\n",
    "model.compile(optimizer='adam',loss='binary_crossentropy',metrics=['accuracy'])\n",
    "model.fit(X_train,y_train,epochs=100)"
   ]
  },
  {
   "cell_type": "code",
   "execution_count": 59,
   "metadata": {},
   "outputs": [
    {
     "name": "stdout",
     "output_type": "stream",
     "text": [
      "7/7 [==============================] - 0s 3ms/step - loss: 0.4341 - accuracy: 0.7750\n"
     ]
    },
    {
     "data": {
      "text/plain": [
       "[0.4340726435184479, 0.7749999761581421]"
      ]
     },
     "execution_count": 59,
     "metadata": {},
     "output_type": "execute_result"
    }
   ],
   "source": [
    "model.evaluate(X_test, y_test)"
   ]
  },
  {
   "cell_type": "code",
   "execution_count": 60,
   "metadata": {},
   "outputs": [
    {
     "data": {
      "text/plain": [
       "array([[0.0165427 ],\n",
       "       [0.7781807 ],\n",
       "       [0.4577452 ],\n",
       "       [0.0053215 ],\n",
       "       [0.44501892],\n",
       "       [0.90140504],\n",
       "       [0.74173546],\n",
       "       [0.4023828 ],\n",
       "       [0.686993  ],\n",
       "       [0.10314563]], dtype=float32)"
      ]
     },
     "execution_count": 60,
     "metadata": {},
     "output_type": "execute_result"
    }
   ],
   "source": [
    "y_pred = model.predict(X_test)\n",
    "y_pred[:10]"
   ]
  },
  {
   "cell_type": "code",
   "execution_count": 61,
   "metadata": {},
   "outputs": [
    {
     "data": {
      "text/plain": [
       "544    0\n",
       "515    1\n",
       "193    1\n",
       "11     0\n",
       "279    0\n",
       "653    1\n",
       "643    1\n",
       "763    0\n",
       "198    1\n",
       "721    0\n",
       "Name: OnlinePracticalTest_High, dtype: uint8"
      ]
     },
     "execution_count": 61,
     "metadata": {},
     "output_type": "execute_result"
    }
   ],
   "source": [
    "y_test[:10]"
   ]
  },
  {
   "cell_type": "code",
   "execution_count": 62,
   "metadata": {},
   "outputs": [],
   "source": [
    "y_pred_output = []\n",
    "for elem in y_pred:\n",
    "    if elem >= 0.5:\n",
    "        y_pred_output.append(1)\n",
    "    else:\n",
    "        y_pred_output.append(0)"
   ]
  },
  {
   "cell_type": "code",
   "execution_count": 63,
   "metadata": {},
   "outputs": [
    {
     "data": {
      "text/plain": [
       "[0, 1, 0, 0, 0, 1, 1, 0, 1, 0]"
      ]
     },
     "execution_count": 63,
     "metadata": {},
     "output_type": "execute_result"
    }
   ],
   "source": [
    "y_pred_output[:10]"
   ]
  },
  {
   "cell_type": "code",
   "execution_count": 64,
   "metadata": {},
   "outputs": [
    {
     "name": "stdout",
     "output_type": "stream",
     "text": [
      "              precision    recall  f1-score   support\n",
      "\n",
      "           0       0.82      0.75      0.79       110\n",
      "           1       0.73      0.80      0.76        90\n",
      "\n",
      "    accuracy                           0.78       200\n",
      "   macro avg       0.77      0.78      0.77       200\n",
      "weighted avg       0.78      0.78      0.78       200\n",
      "\n"
     ]
    }
   ],
   "source": [
    "from sklearn.metrics import confusion_matrix, classification_report\n",
    "\n",
    "print(classification_report(y_test,y_pred_output))"
   ]
  },
  {
   "cell_type": "code",
   "execution_count": 65,
   "metadata": {},
   "outputs": [
    {
     "data": {
      "text/plain": [
       "Text(69.0, 0.5, 'Truth')"
      ]
     },
     "execution_count": 65,
     "metadata": {},
     "output_type": "execute_result"
    },
    {
     "data": {
      "image/png": "[encoded data removed]",
      "text/plain": [
       "<Figure size 720x504 with 2 Axes>"
      ]
     },
     "metadata": {
      "needs_background": "light"
     },
     "output_type": "display_data"
    }
   ],
   "source": [
    "cm = tf.math.confusion_matrix(labels=y_test,predictions=y_pred_output)\n",
    "\n",
    "plt.figure(figsize=(10,7))\n",
    "sn.heatmap(cm, annot=True, fmt='d')\n",
    "plt.xlabel('Predicted')\n",
    "plt.ylabel('Truth')"
   ]
  },
  {
   "cell_type": "code",
   "execution_count": 66,
   "metadata": {},
   "outputs": [
    {
     "data": {
      "text/plain": [
       "0.775"
      ]
     },
     "execution_count": 66,
     "metadata": {},
     "output_type": "execute_result"
    }
   ],
   "source": [
    "score = accuracy_score(y_test, y_pred_output)\n",
    "score"
   ]
  },
  {
   "cell_type": "code",
   "execution_count": 67,
   "metadata": {},
   "outputs": [],
   "source": [
    "# save trained model\n",
    "# joblib.dump(model, 'student_performance_predictor.joblib')"
   ]
  },
  {
   "cell_type": "code",
   "execution_count": 68,
   "metadata": {},
   "outputs": [],
   "source": [
    "# load trained model\n",
    "# model = joblib.load('student_performance_predictor.joblib')"
   ]
  }
 ],
 "metadata": {
  "kernelspec": {
   "display_name": "Python 3 (ipykernel)",
   "language": "python",
   "name": "python3"
  },
  "language_info": {
   "codemirror_mode": {
    "name": "ipython",
    "version": 3
   },
   "file_extension": ".py",
   "mimetype": "text/x-python",
   "name": "python",
   "nbconvert_exporter": "python",
   "pygments_lexer": "ipython3",
   "version": "3.9.12"
  }
 },
 "nbformat": 4,
 "nbformat_minor": 4
}
